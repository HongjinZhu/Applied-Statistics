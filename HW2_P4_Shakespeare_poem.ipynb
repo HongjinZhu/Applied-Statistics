{
  "nbformat": 4,
  "nbformat_minor": 0,
  "metadata": {
    "colab": {
      "provenance": []
    },
    "kernelspec": {
      "name": "ir",
      "display_name": "R"
    },
    "language_info": {
      "name": "R"
    }
  },
  "cells": [
    {
      "cell_type": "code",
      "execution_count": null,
      "metadata": {
        "id": "eddrAeerOuND"
      },
      "outputs": [],
      "source": [
        "# Load data\n",
        "\n",
        "y = c(9,7,5,8,11,10,21,16,18,9,5) # observed frequency of words\n",
        "theta = c(6.97,4.21,3.33,5.36,10.24,13.96,10.77,8.87,13.77,9.99,7.48) # predicted frequency of words\n",
        "d = length(y)"
      ]
    },
    {
      "cell_type": "code",
      "source": [
        "# Your code: implement the Wald test\n",
        "\n",
        "T_Wald = sum((log(theta)-log(y))^2)*cov(y,y) # Compute the Wald statistic (~1-2 lines)\n",
        "df_Wald = d # Degree of freedom (~1 line)\n",
        "\n",
        "p_Wald = 1 - pchisq(T_Wald, df_Wald) # p-value of the Wald test\n",
        "print(p_Wald)"
      ],
      "metadata": {
        "id": "qHgBlblSQIjH",
        "colab": {
          "base_uri": "https://localhost:8080/"
        },
        "outputId": "d443ede3-d768-4e6d-f4dd-8e7427993eab"
      },
      "execution_count": null,
      "outputs": [
        {
          "output_type": "stream",
          "name": "stdout",
          "text": [
            "[1] 5.162409e-07\n"
          ]
        }
      ]
    },
    {
      "cell_type": "code",
      "source": [
        "# Your code: implement the score test\n",
        "\n",
        "T_score = sum((theta-y)^2)*cov(theta,theta) # Compute the score test statistic (~1-2 lines)\n",
        "df_score = d # Degree of freedom (~1 line)\n",
        "\n",
        "p_score = 1 - pchisq(T_score, df_score) # p-value of the score test\n",
        "print(p_score)"
      ],
      "metadata": {
        "id": "tqu8PZOBS6AX",
        "colab": {
          "base_uri": "https://localhost:8080/"
        },
        "outputId": "e4d9daff-40a8-4bd8-ad07-b0470f2efcc3"
      },
      "execution_count": null,
      "outputs": [
        {
          "output_type": "stream",
          "name": "stdout",
          "text": [
            "[1] 0\n"
          ]
        }
      ]
    },
    {
      "cell_type": "code",
      "source": [
        "# Your code: implement the likelihood ratio test\n",
        "\n",
        "T_lrt = -2*(sum(dpois(y, lambda = theta, log = TRUE))-sum(dpois(y, lambda = y, log = TRUE))) # Compute the LRT statistic (~1-2 lines)\n",
        "df_lrt = d # Degree of freedom (~1 line)\n",
        "\n",
        "p_lrt = 1 - pchisq(T_lrt, df_lrt) # p-value of the LRT\n",
        "print(p_lrt)"
      ],
      "metadata": {
        "id": "b5B9qNUUTCoz",
        "colab": {
          "base_uri": "https://localhost:8080/"
        },
        "outputId": "16865ba2-8afe-4195-8169-19e11a27c429"
      },
      "execution_count": null,
      "outputs": [
        {
          "output_type": "stream",
          "name": "stdout",
          "text": [
            "[1] 0.05030743\n"
          ]
        }
      ]
    },
    {
      "cell_type": "code",
      "source": [
        "### code link\n",
        "https://colab.research.google.com/drive/1jqR9ZX23jR1lVAVmXvu4ElO9DEzU5sxB?usp=sharing"
      ],
      "metadata": {
        "id": "ArulaS3zrSD2"
      },
      "execution_count": null,
      "outputs": []
    }
  ]
}